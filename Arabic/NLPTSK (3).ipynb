{
  "nbformat": 4,
  "nbformat_minor": 0,
  "metadata": {
    "colab": {
      "provenance": []
    },
    "kernelspec": {
      "name": "python3",
      "display_name": "Python 3"
    },
    "language_info": {
      "name": "python"
    }
  },
  "cells": [
    {
      "cell_type": "code",
      "source": [
        "import pandas as pd\n",
        "path=\"/content/ArabicOffensiveComments.xlsx/ArabicOffensiveComments.xlsx\""
      ],
      "metadata": {
        "id": "WaZEuBc2E10e"
      },
      "execution_count": 5,
      "outputs": []
    },
    {
      "cell_type": "code",
      "source": [
        "df = pd.read_excel(path)\n",
        "print(df.head())"
      ],
      "metadata": {
        "colab": {
          "base_uri": "https://localhost:8080/"
        },
        "id": "GpM7t7k9E59U",
        "outputId": "f414dc02-3e60-4f75-ca17-ca2483a218b6"
      },
      "execution_count": 6,
      "outputs": [
        {
          "output_type": "stream",
          "name": "stdout",
          "text": [
            "   Id  Platform                                            Comment  \\\n",
            "0   1   Twitter  @User.IDX في فترة الصغر والمراهقة يكون من الصع...   \n",
            "1   2  Facebook  \"ردا على معظم الردود .. أحب اوضحلكم ان عمليات ...   \n",
            "2   3   Twitter  @User.IDX يجب ان تذكروا ان لكل سنة ثيم للحفل و...   \n",
            "3   4   YouTube  بتعمل حلقة صغيرة عشان عندي امتحان بكرة ومتضيعل...   \n",
            "4   5   YouTube             على طاري السطحيه مدري ليه تذكرت فيحان    \n",
            "\n",
            "  Majority_Label  Agreement  NumOfJudgementUsed  Total_Judgement  \\\n",
            "0  Non-Offensive      100.0                   3                3   \n",
            "1  Non-Offensive      100.0                   3                4   \n",
            "2  Non-Offensive      100.0                   3                5   \n",
            "3  Non-Offensive      100.0                   3                3   \n",
            "4  Non-Offensive      100.0                   3                3   \n",
            "\n",
            "  Vulgar:V/HateSpeech:HS/None:-  \n",
            "0                             -  \n",
            "1                             -  \n",
            "2                             -  \n",
            "3                             -  \n",
            "4                             -  \n"
          ]
        }
      ]
    },
    {
      "cell_type": "code",
      "source": [
        "import re\n",
        "import numpy as np"
      ],
      "metadata": {
        "id": "ImBL2b_HLPC3"
      },
      "execution_count": 7,
      "outputs": []
    },
    {
      "cell_type": "code",
      "source": [
        "# function to clean text\n",
        "\n",
        "def clean_text(text):\n",
        "\n",
        "    # matches strings followed by one or more whitespaces\n",
        "\n",
        "    text = re.sub(r\"http\\S+|www\\S+|https\\S+\", '', text)\n",
        "\n",
        "    # matches all non-arabic characters\n",
        "\n",
        "    text = re.sub(r'A-Za-z0-9', '', text)\n",
        "\n",
        "    # matches special characters\n",
        "\n",
        "    text = re.sub(r'[^\\u0600-\\u06FF\\s]', '', text)\n",
        "\n",
        "    # matches reduntant whitespaces\n",
        "\n",
        "    text = re.sub(r'\\s+', ' ', text)\n",
        "\n",
        "    # returns text after removing matches without any leading or trailing whitespaces\n",
        "\n",
        "    return text.strip()"
      ],
      "metadata": {
        "id": "MljDNr_GLx6V"
      },
      "execution_count": 8,
      "outputs": []
    },
    {
      "cell_type": "code",
      "source": [
        "# apply the function to the text column then saving in a new column\n",
        "\n",
        "df['Proccessed Text'] = df['Comment'].apply(clean_text)"
      ],
      "metadata": {
        "id": "K3Bw_L2ML3P8"
      },
      "execution_count": 9,
      "outputs": []
    },
    {
      "cell_type": "code",
      "source": [
        "# display the first 5 rows of the dataframe\n",
        "\n",
        "print(df['Proccessed Text'].head())"
      ],
      "metadata": {
        "colab": {
          "base_uri": "https://localhost:8080/"
        },
        "id": "zs4N2qQXL4aR",
        "outputId": "f9c88418-ed56-40bf-ad54-847e7c57b49b"
      },
      "execution_count": 10,
      "outputs": [
        {
          "output_type": "stream",
          "name": "stdout",
          "text": [
            "0    في فترة الصغر والمراهقة يكون من الصعب تقبل تعل...\n",
            "1    ردا على معظم الردود أحب اوضحلكم ان عمليات زرع ...\n",
            "2    يجب ان تذكروا ان لكل سنة ثيم للحفل وهو نوع من ...\n",
            "3    بتعمل حلقة صغيرة عشان عندي امتحان بكرة ومتضيعل...\n",
            "4                على طاري السطحيه مدري ليه تذكرت فيحان\n",
            "Name: Proccessed Text, dtype: object\n"
          ]
        }
      ]
    },
    {
      "cell_type": "code",
      "source": [
        "!pip install emoji\n",
        "import emoji"
      ],
      "metadata": {
        "colab": {
          "base_uri": "https://localhost:8080/"
        },
        "id": "77fWfxMjMFnl",
        "outputId": "e33733b1-2e99-4d3b-dfbd-0c9ac6e30e53"
      },
      "execution_count": 15,
      "outputs": [
        {
          "output_type": "stream",
          "name": "stdout",
          "text": [
            "Collecting emoji\n",
            "  Downloading emoji-2.14.1-py3-none-any.whl.metadata (5.7 kB)\n",
            "Downloading emoji-2.14.1-py3-none-any.whl (590 kB)\n",
            "\u001b[?25l   \u001b[90m━━━━━━━━━━━━━━━━━━━━━━━━━━━━━━━━━━━━━━━━\u001b[0m \u001b[32m0.0/590.6 kB\u001b[0m \u001b[31m?\u001b[0m eta \u001b[36m-:--:--\u001b[0m\r\u001b[2K   \u001b[91m━━━━━━━━━━━━━━━━━━━━━━━━━━━━━━━━━━━━━━━\u001b[0m\u001b[91m╸\u001b[0m \u001b[32m583.7/590.6 kB\u001b[0m \u001b[31m19.4 MB/s\u001b[0m eta \u001b[36m0:00:01\u001b[0m\r\u001b[2K   \u001b[90m━━━━━━━━━━━━━━━━━━━━━━━━━━━━━━━━━━━━━━━━\u001b[0m \u001b[32m590.6/590.6 kB\u001b[0m \u001b[31m12.7 MB/s\u001b[0m eta \u001b[36m0:00:00\u001b[0m\n",
            "\u001b[?25hInstalling collected packages: emoji\n",
            "Successfully installed emoji-2.14.1\n"
          ]
        }
      ]
    },
    {
      "cell_type": "code",
      "source": [
        "# takes a string as input and returns a list of emojis in the string\n",
        "# by looping through charcters and checking if they are emojis\n",
        "# then join extracted emojis into a single string\n",
        "\n",
        "def extract_emojis(text):\n",
        "  return ''.join(c for c in text if c in emoji.EMOJI_DATA)"
      ],
      "metadata": {
        "id": "zQKEd7maMhja"
      },
      "execution_count": 17,
      "outputs": []
    },
    {
      "cell_type": "code",
      "source": [
        "df['Emojis'] = df['Comment'].apply(extract_emojis)\n",
        "\n",
        "print(df[['Comment', 'Emojis']].head())"
      ],
      "metadata": {
        "colab": {
          "base_uri": "https://localhost:8080/"
        },
        "id": "9cisuDkHMjVg",
        "outputId": "39999040-b74c-49fb-c828-5ac86140241a"
      },
      "execution_count": 18,
      "outputs": [
        {
          "output_type": "stream",
          "name": "stdout",
          "text": [
            "                                             Comment Emojis\n",
            "0  @User.IDX في فترة الصغر والمراهقة يكون من الصع...      😔\n",
            "1  \"ردا على معظم الردود .. أحب اوضحلكم ان عمليات ...       \n",
            "2  @User.IDX يجب ان تذكروا ان لكل سنة ثيم للحفل و...       \n",
            "3  بتعمل حلقة صغيرة عشان عندي امتحان بكرة ومتضيعل...       \n",
            "4             على طاري السطحيه مدري ليه تذكرت فيحان        \n"
          ]
        }
      ]
    },
    {
      "cell_type": "code",
      "source": [
        "def find_repeated_words(text):\n",
        "    return re.findall(r'\\b(\\w+)\\s+\\1\\b', text)"
      ],
      "metadata": {
        "id": "GmfTYMy4gD0B"
      },
      "execution_count": 58,
      "outputs": []
    },
    {
      "cell_type": "code",
      "source": [
        "df['Repeated Words'] = df['Comment'].apply(find_repeated_words)\n",
        "\n",
        "print(df[['Repeated Words', 'Comment']].head())"
      ],
      "metadata": {
        "colab": {
          "base_uri": "https://localhost:8080/"
        },
        "id": "dTb4TzXBg10c",
        "outputId": "6e1912c0-ff0a-411c-d6a0-24ac00536804"
      },
      "execution_count": 59,
      "outputs": [
        {
          "output_type": "stream",
          "name": "stdout",
          "text": [
            "  Repeated Words                                            Comment\n",
            "0             []  @User.IDX في فترة الصغر والمراهقة يكون من الصع...\n",
            "1             []  \"ردا على معظم الردود .. أحب اوضحلكم ان عمليات ...\n",
            "2             []  @User.IDX يجب ان تذكروا ان لكل سنة ثيم للحفل و...\n",
            "3             []  بتعمل حلقة صغيرة عشان عندي امتحان بكرة ومتضيعل...\n",
            "4             []             على طاري السطحيه مدري ليه تذكرت فيحان \n"
          ]
        }
      ]
    },
    {
      "cell_type": "code",
      "source": [
        "def detect_feminine_words(text, suffix='ة'):\n",
        "    return re.findall(rf'\\b\\w+{suffix}\\b', text)"
      ],
      "metadata": {
        "id": "rLPD0RMAhTCs"
      },
      "execution_count": 61,
      "outputs": []
    },
    {
      "cell_type": "code",
      "source": [
        "df['Feminine Words'] = df['Comment'].apply(detect_feminine_words)\n",
        "\n",
        "print(df[['Feminine Words', 'Comment']].head())"
      ],
      "metadata": {
        "colab": {
          "base_uri": "https://localhost:8080/"
        },
        "id": "yLKj2SQNhZgk",
        "outputId": "696f0e3e-07ad-45db-c5af-af4fc8c9482b"
      },
      "execution_count": 62,
      "outputs": [
        {
          "output_type": "stream",
          "name": "stdout",
          "text": [
            "                                      Feminine Words  \\\n",
            "0             [فترة, والمراهقة, الثقة, نفسية, شخصية]   \n",
            "1  [المزروعة, الوراثية, جامعة, الجديدة, وحدة, بال...   \n",
            "2                                    [سنة, التنكرية]   \n",
            "3                                [حلقة, صغيرة, بكرة]   \n",
            "4                                                 []   \n",
            "\n",
            "                                             Comment  \n",
            "0  @User.IDX في فترة الصغر والمراهقة يكون من الصع...  \n",
            "1  \"ردا على معظم الردود .. أحب اوضحلكم ان عمليات ...  \n",
            "2  @User.IDX يجب ان تذكروا ان لكل سنة ثيم للحفل و...  \n",
            "3  بتعمل حلقة صغيرة عشان عندي امتحان بكرة ومتضيعل...  \n",
            "4             على طاري السطحيه مدري ليه تذكرت فيحان   \n"
          ]
        }
      ]
    },
    {
      "cell_type": "code",
      "source": [
        "def detect_negations(text):\n",
        "    return re.findall(r'\\b(ما \\w+ ش|لا \\w+)\\b', text)"
      ],
      "metadata": {
        "id": "LqRpVdnshoXC"
      },
      "execution_count": 63,
      "outputs": []
    },
    {
      "cell_type": "code",
      "source": [
        "df['Negative Words'] = df['Comment'].apply(detect_negations)\n",
        "\n",
        "print(df[['Negative Words', 'Comment']].head())"
      ],
      "metadata": {
        "colab": {
          "base_uri": "https://localhost:8080/"
        },
        "id": "8lnG7Djwhs81",
        "outputId": "9f4ff888-be81-4f03-9606-0d55d9e8c332"
      },
      "execution_count": 64,
      "outputs": [
        {
          "output_type": "stream",
          "name": "stdout",
          "text": [
            "  Negative Words                                            Comment\n",
            "0             []  @User.IDX في فترة الصغر والمراهقة يكون من الصع...\n",
            "1       [لا تتم]  \"ردا على معظم الردود .. أحب اوضحلكم ان عمليات ...\n",
            "2             []  @User.IDX يجب ان تذكروا ان لكل سنة ثيم للحفل و...\n",
            "3             []  بتعمل حلقة صغيرة عشان عندي امتحان بكرة ومتضيعل...\n",
            "4             []             على طاري السطحيه مدري ليه تذكرت فيحان \n"
          ]
        }
      ]
    },
    {
      "cell_type": "code",
      "source": [
        "def detect_questions(text):\n",
        "    return re.findall(r'\\b(لماذا|كيف|ما|أين)\\b', text)"
      ],
      "metadata": {
        "id": "N-vkyk4XiTzn"
      },
      "execution_count": 65,
      "outputs": []
    },
    {
      "cell_type": "code",
      "source": [
        "df['Question Words'] = df['Comment'].apply(detect_questions)\n",
        "\n",
        "print(df[['Question Words', 'Comment']].head())"
      ],
      "metadata": {
        "colab": {
          "base_uri": "https://localhost:8080/"
        },
        "id": "PazL9egXiVhz",
        "outputId": "fde162dc-5aba-4c5b-b277-e65d0028bac1"
      },
      "execution_count": 66,
      "outputs": [
        {
          "output_type": "stream",
          "name": "stdout",
          "text": [
            "  Question Words                                            Comment\n",
            "0             []  @User.IDX في فترة الصغر والمراهقة يكون من الصع...\n",
            "1           [ما]  \"ردا على معظم الردود .. أحب اوضحلكم ان عمليات ...\n",
            "2             []  @User.IDX يجب ان تذكروا ان لكل سنة ثيم للحفل و...\n",
            "3             []  بتعمل حلقة صغيرة عشان عندي امتحان بكرة ومتضيعل...\n",
            "4             []             على طاري السطحيه مدري ليه تذكرت فيحان \n"
          ]
        }
      ]
    },
    {
      "cell_type": "code",
      "source": [
        "def long_words(text):\n",
        "    return re.findall(r'\\b\\w{7,}\\b', text)"
      ],
      "metadata": {
        "id": "FX4P0oFNicps"
      },
      "execution_count": 67,
      "outputs": []
    },
    {
      "cell_type": "code",
      "source": [
        "df['Long Words'] = df['Comment'].apply(long_words)\n",
        "\n",
        "print(df[['Long Words', 'Comment']].head())"
      ],
      "metadata": {
        "colab": {
          "base_uri": "https://localhost:8080/"
        },
        "id": "tkxHauBMihwr",
        "outputId": "c8e1df26-d949-4839-be2b-1c1a58b2f9d9"
      },
      "execution_count": 68,
      "outputs": [
        {
          "output_type": "stream",
          "name": "stdout",
          "text": [
            "                                          Long Words  \\\n",
            "0           [والمراهقة, تعليقات, الأصدقاء, الوالدين]   \n",
            "1  [اوضحلكم, المزروعة, الأمراض, الوراثية, استبعاد...   \n",
            "2                                [الحفلات, التنكرية]   \n",
            "3                              [ومتضيعليش, اليوتيوب]   \n",
            "4                                          [السطحيه]   \n",
            "\n",
            "                                             Comment  \n",
            "0  @User.IDX في فترة الصغر والمراهقة يكون من الصع...  \n",
            "1  \"ردا على معظم الردود .. أحب اوضحلكم ان عمليات ...  \n",
            "2  @User.IDX يجب ان تذكروا ان لكل سنة ثيم للحفل و...  \n",
            "3  بتعمل حلقة صغيرة عشان عندي امتحان بكرة ومتضيعل...  \n",
            "4             على طاري السطحيه مدري ليه تذكرت فيحان   \n"
          ]
        }
      ]
    },
    {
      "cell_type": "code",
      "source": [
        "!pip install pyarabic\n",
        "import pyarabic.araby as araby"
      ],
      "metadata": {
        "colab": {
          "base_uri": "https://localhost:8080/"
        },
        "id": "sbN5XLLBO95F",
        "outputId": "524d95a0-9710-4c12-c9c5-30629ba40fb7"
      },
      "execution_count": 22,
      "outputs": [
        {
          "output_type": "stream",
          "name": "stdout",
          "text": [
            "Collecting pyarabic\n",
            "  Downloading PyArabic-0.6.15-py3-none-any.whl.metadata (10 kB)\n",
            "Requirement already satisfied: six>=1.14.0 in /usr/local/lib/python3.11/dist-packages (from pyarabic) (1.17.0)\n",
            "Downloading PyArabic-0.6.15-py3-none-any.whl (126 kB)\n",
            "\u001b[?25l   \u001b[90m━━━━━━━━━━━━━━━━━━━━━━━━━━━━━━━━━━━━━━━━\u001b[0m \u001b[32m0.0/126.4 kB\u001b[0m \u001b[31m?\u001b[0m eta \u001b[36m-:--:--\u001b[0m\r\u001b[2K   \u001b[90m━━━━━━━━━━━━━━━━━━━━━━━━━━━━━━━━━━━━━━━━\u001b[0m \u001b[32m126.4/126.4 kB\u001b[0m \u001b[31m4.8 MB/s\u001b[0m eta \u001b[36m0:00:00\u001b[0m\n",
            "\u001b[?25hInstalling collected packages: pyarabic\n",
            "Successfully installed pyarabic-0.6.15\n"
          ]
        }
      ]
    },
    {
      "cell_type": "code",
      "source": [
        "def normalize_arabic_text(text):\n",
        "\n",
        "    #Converts all hamza forms to plain alef\n",
        "\n",
        "    text = araby.normalize_hamza(text)\n",
        "    text = araby.normalize_alef(text)\n",
        "\n",
        "    #Fixes combined letter issues\n",
        "\n",
        "    text = araby.normalize_ligature(text)\n",
        "\n",
        "    #Deletes elongation characters used in justification\n",
        "\n",
        "    text = araby.strip_tatweel(text)\n",
        "\n",
        "    #Strips tashkeel while preserving base letters\n",
        "\n",
        "    text = araby.strip_tashkeel(text)\n",
        "\n",
        "    #Number Standardization for consistency\n",
        "\n",
        "    digit_map = str.maketrans('٠١٢٣٤٥٦٧٨٩', '0123456789')\n",
        "    text = text.translate(digit_map)\n",
        "\n",
        "    return text.strip()"
      ],
      "metadata": {
        "id": "q4Miy1S3QPN3"
      },
      "execution_count": 25,
      "outputs": []
    },
    {
      "cell_type": "code",
      "source": [
        "df['Normalized Text'] = df['Proccessed Text'].apply(normalize_arabic_text)\n",
        "print(df[['Normalized Text', 'Proccessed Text']].head())"
      ],
      "metadata": {
        "colab": {
          "base_uri": "https://localhost:8080/"
        },
        "id": "GXWtzYM8Rpo0",
        "outputId": "f4d97fb6-e40a-445e-a870-833b6dc9bada"
      },
      "execution_count": 26,
      "outputs": [
        {
          "output_type": "stream",
          "name": "stdout",
          "text": [
            "                                     Normalized Text  \\\n",
            "0  في فترة الصغر والمراهقة يكون من الصعب تقبل تعل...   \n",
            "1  ردا علا معظم الردود ءحب اوضحلكم ان عمليات زرع ...   \n",
            "2  يجب ان تذكروا ان لكل سنة ثيم للحفل وهو نوع من ...   \n",
            "3  بتعمل حلقة صغيرة عشان عندي امتحان بكرة ومتضيعل...   \n",
            "4              علا طاري السطحيه مدري ليه تذكرت فيحان   \n",
            "\n",
            "                                     Proccessed Text  \n",
            "0  في فترة الصغر والمراهقة يكون من الصعب تقبل تعل...  \n",
            "1  ردا على معظم الردود أحب اوضحلكم ان عمليات زرع ...  \n",
            "2  يجب ان تذكروا ان لكل سنة ثيم للحفل وهو نوع من ...  \n",
            "3  بتعمل حلقة صغيرة عشان عندي امتحان بكرة ومتضيعل...  \n",
            "4              على طاري السطحيه مدري ليه تذكرت فيحان  \n"
          ]
        }
      ]
    },
    {
      "cell_type": "code",
      "source": [
        "import nltk\n",
        "from nltk.corpus import stopwords\n",
        "from nltk.tokenize import word_tokenize\n",
        "nltk.download('stopwords')\n",
        "nltk.download('punkt_tab')"
      ],
      "metadata": {
        "colab": {
          "base_uri": "https://localhost:8080/"
        },
        "id": "SbPgGehlSyg_",
        "outputId": "1d17e7a0-ec7c-4183-891c-c1b81ed62c04"
      },
      "execution_count": 34,
      "outputs": [
        {
          "output_type": "stream",
          "name": "stderr",
          "text": [
            "[nltk_data] Downloading package stopwords to /root/nltk_data...\n",
            "[nltk_data]   Package stopwords is already up-to-date!\n",
            "[nltk_data] Downloading package punkt_tab to /root/nltk_data...\n",
            "[nltk_data]   Unzipping tokenizers/punkt_tab.zip.\n"
          ]
        },
        {
          "output_type": "execute_result",
          "data": {
            "text/plain": [
              "True"
            ]
          },
          "metadata": {},
          "execution_count": 34
        }
      ]
    },
    {
      "cell_type": "code",
      "source": [
        "def remove_arabic_stopwords(text):\n",
        "  stop_words = set(stopwords.words('arabic'))\n",
        "  return ' '.join([\n",
        "    word for word in word_tokenize(text)\n",
        "    if word not in stop_words and len(word) > 1\n",
        "  ]).strip()"
      ],
      "metadata": {
        "id": "MfQ9HgxYU_pE"
      },
      "execution_count": 43,
      "outputs": []
    },
    {
      "cell_type": "code",
      "source": [
        "df['Stop-Free Text'] = df['Normalized Text'].apply(remove_arabic_stopwords)\n",
        "print(df[['Stop-Free Text', 'Normalized Text']].head())"
      ],
      "metadata": {
        "colab": {
          "base_uri": "https://localhost:8080/"
        },
        "id": "1_8K7LgmWB_y",
        "outputId": "fbcf01cc-79a3-4ea0-fd24-b8cfd0e7951b"
      },
      "execution_count": 44,
      "outputs": [
        {
          "output_type": "stream",
          "name": "stdout",
          "text": [
            "                                      Stop-Free Text  \\\n",
            "0  فترة الصغر والمراهقة يكون الصعب تقبل تعليقات ا...   \n",
            "1  ردا علا معظم الردود ءحب اوضحلكم ان عمليات زرع ...   \n",
            "2  يجب ان تذكروا ان لكل سنة ثيم للحفل نوع الحفلات...   \n",
            "3  بتعمل حلقة صغيرة عشان عندي امتحان بكرة ومتضيعل...   \n",
            "4              علا طاري السطحيه مدري ليه تذكرت فيحان   \n",
            "\n",
            "                                     Normalized Text  \n",
            "0  في فترة الصغر والمراهقة يكون من الصعب تقبل تعل...  \n",
            "1  ردا علا معظم الردود ءحب اوضحلكم ان عمليات زرع ...  \n",
            "2  يجب ان تذكروا ان لكل سنة ثيم للحفل وهو نوع من ...  \n",
            "3  بتعمل حلقة صغيرة عشان عندي امتحان بكرة ومتضيعل...  \n",
            "4              علا طاري السطحيه مدري ليه تذكرت فيحان  \n"
          ]
        }
      ]
    },
    {
      "cell_type": "code",
      "source": [
        "!pip install tashaphyne\n",
        "from tashaphyne.stemming import ArabicLightStemmer\n",
        "ar_stemmer = ArabicLightStemmer()"
      ],
      "metadata": {
        "colab": {
          "base_uri": "https://localhost:8080/"
        },
        "id": "i7QQyf7oYiUn",
        "outputId": "372d0998-f551-480c-aaa1-696357ce02da"
      },
      "execution_count": 45,
      "outputs": [
        {
          "output_type": "stream",
          "name": "stdout",
          "text": [
            "Requirement already satisfied: tashaphyne in /usr/local/lib/python3.11/dist-packages (0.3.6)\n",
            "Requirement already satisfied: pyarabic in /usr/local/lib/python3.11/dist-packages (from tashaphyne) (0.6.15)\n",
            "Requirement already satisfied: six>=1.14.0 in /usr/local/lib/python3.11/dist-packages (from pyarabic->tashaphyne) (1.17.0)\n"
          ]
        }
      ]
    },
    {
      "cell_type": "code",
      "source": [
        "def stem_text(text):\n",
        "    stemmer = ArabicLightStemmer()\n",
        "    stemmed_words = []\n",
        "    for word in text.split():\n",
        "        stemmer.light_stem(word)\n",
        "        stem = stemmer.get_root()\n",
        "        if stem:\n",
        "            stemmed_words.append(stem)\n",
        "    return ' '.join(stemmed_words)"
      ],
      "metadata": {
        "id": "kYi0HL16Zpjs"
      },
      "execution_count": 50,
      "outputs": []
    },
    {
      "cell_type": "code",
      "source": [
        "df['Stemmed Text'] = df['Stop-Free Text'].apply(stem_text)\n",
        "print(df[['Stemmed Text', 'Stop-Free Text']].head())"
      ],
      "metadata": {
        "colab": {
          "base_uri": "https://localhost:8080/"
        },
        "id": "y7k-wfuMalMH",
        "outputId": "46279bfa-94a2-46d5-b47c-7c83934fb38f"
      },
      "execution_count": 51,
      "outputs": [
        {
          "output_type": "stream",
          "name": "stdout",
          "text": [
            "                                        Stemmed Text  \\\n",
            "0  فتر صغر رهق كون صعب قبل علق ءصدق حول شعر جعد ه...   \n",
            "1  ردد علل عظم ردد ءحب ضحل ن عمل زرع كلو تمم ولو ...   \n",
            "2             جبب ن ذكر ن كل سنن ثيم حفل نوع حفل نكر   \n",
            "3   عمل حلق صغر عشو عند متح بكر ضعلش لوم لهه فخر لتب   \n",
            "4                        علل طور سطح مدر ليه ذكر فحو   \n",
            "\n",
            "                                      Stop-Free Text  \n",
            "0  فترة الصغر والمراهقة يكون الصعب تقبل تعليقات ا...  \n",
            "1  ردا علا معظم الردود ءحب اوضحلكم ان عمليات زرع ...  \n",
            "2  يجب ان تذكروا ان لكل سنة ثيم للحفل نوع الحفلات...  \n",
            "3  بتعمل حلقة صغيرة عشان عندي امتحان بكرة ومتضيعل...  \n",
            "4              علا طاري السطحيه مدري ليه تذكرت فيحان  \n"
          ]
        }
      ]
    },
    {
      "cell_type": "code",
      "source": [
        "#pyarabic already imported"
      ],
      "metadata": {
        "id": "sIn3klcAdizm"
      },
      "execution_count": null,
      "outputs": []
    },
    {
      "cell_type": "code",
      "source": [
        "def simple_arabic_lemmatize(text):\n",
        "    lemmas = []\n",
        "    for word in text.split():\n",
        "\n",
        "        # Check if word starts with verb prefixes\n",
        "\n",
        "        if any(word.startswith(prefix) for prefix in ['ي', 'ت', 'ا', 'ن', 'ست']):\n",
        "\n",
        "            # Basic verb normalization (remove prefixes/suffixes)\n",
        "\n",
        "            lemma = word[1:] if len(word) > 3 else word\n",
        "        else:\n",
        "\n",
        "            # Noun normalization (remove diacritics)\n",
        "\n",
        "            lemma = araby.strip_tashkeel(word)\n",
        "        lemmas.append(lemma)\n",
        "\n",
        "    return ' '.join(lemmas)"
      ],
      "metadata": {
        "id": "8ikNRR2MeOS7"
      },
      "execution_count": 55,
      "outputs": []
    },
    {
      "cell_type": "code",
      "source": [
        "df['Lemmatized Text'] = df['Stop-Free Text'].apply(simple_arabic_lemmatize)\n",
        "print(df[['Lemmatized Text', 'Stop-Free Text']].head())"
      ],
      "metadata": {
        "colab": {
          "base_uri": "https://localhost:8080/"
        },
        "id": "1fQhhnSwearS",
        "outputId": "e6c669d3-2a4b-4db6-fb73-d97643b663bc"
      },
      "execution_count": 56,
      "outputs": [
        {
          "output_type": "stream",
          "name": "stdout",
          "text": [
            "                                     Lemmatized Text  \\\n",
            "0  فترة لصغر والمراهقة كون لصعب قبل عليقات لءصدقا...   \n",
            "1  ردا علا معظم لردود ءحب وضحلكم ان عمليات زرع لك...   \n",
            "2  يجب ان ذكروا ان لكل سنة ثيم للحفل نوع لحفلات ل...   \n",
            "3  بتعمل حلقة صغيرة عشان عندي متحان بكرة ومتضيعلي...   \n",
            "4                علا طاري لسطحيه مدري ليه ذكرت فيحان   \n",
            "\n",
            "                                      Stop-Free Text  \n",
            "0  فترة الصغر والمراهقة يكون الصعب تقبل تعليقات ا...  \n",
            "1  ردا علا معظم الردود ءحب اوضحلكم ان عمليات زرع ...  \n",
            "2  يجب ان تذكروا ان لكل سنة ثيم للحفل نوع الحفلات...  \n",
            "3  بتعمل حلقة صغيرة عشان عندي امتحان بكرة ومتضيعل...  \n",
            "4              علا طاري السطحيه مدري ليه تذكرت فيحان  \n"
          ]
        }
      ]
    },
    {
      "cell_type": "code",
      "source": [
        "#Count Repeated Words\n",
        "df['Repeat_Count'] = df['Repeated Words'].apply(len)\n",
        "\n",
        "#Compare averages\n",
        "repeat_stats = df.groupby('Majority_Label')['Repeat_Count'].mean()\n",
        "print(f\"Average repeats per comment:\\\\n{repeat_stats}\")\n",
        "\n",
        "#Most common repeats\n",
        "all_repeats = [word for sublist in df['Repeated Words'] for word in sublist]\n",
        "print(\"Top 5 repeated phrases:\", Counter(all_repeats).most_common(5))"
      ],
      "metadata": {
        "colab": {
          "base_uri": "https://localhost:8080/"
        },
        "id": "iV64R6R4n62P",
        "outputId": "311712b8-3db5-49c7-96a6-e4c6ee247f7c"
      },
      "execution_count": 77,
      "outputs": [
        {
          "output_type": "stream",
          "name": "stdout",
          "text": [
            "Average repeats per comment:\\nMajority_Label\n",
            "Non-Offensive    0.031278\n",
            "Offensive        0.020741\n",
            "Name: Repeat_Count, dtype: float64\n",
            "Top 5 repeated phrases: [('جدا', 12), ('الله', 5), ('م', 5), ('نعم', 3), ('و', 3)]\n"
          ]
        }
      ]
    },
    {
      "cell_type": "code",
      "source": [
        "from scipy.stats import chi2_contingency"
      ],
      "metadata": {
        "id": "MNvhNd2XoD7C"
      },
      "execution_count": 78,
      "outputs": []
    },
    {
      "cell_type": "code",
      "source": [
        "#Frequency analysis\n",
        "df['Feminine_Count'] = df['Feminine Words'].apply(len)\n",
        "feminine_stats = df.groupby('Majority_Label')['Feminine_Count'].mean()\n",
        "\n",
        "#Chi-square test\n",
        "contingency = pd.crosstab(df['Majority_Label'], df['Feminine_Count'] > 0)\n",
        "chi2, p, _, _ = chi2_contingency(contingency)\n",
        "print(f\"P-value for feminine word association: {p:.4f}\")"
      ],
      "metadata": {
        "colab": {
          "base_uri": "https://localhost:8080/"
        },
        "id": "IJXJWvcMn9IM",
        "outputId": "f2ccc4ba-eeef-495a-8f7d-7cecc2cc84f0"
      },
      "execution_count": 79,
      "outputs": [
        {
          "output_type": "stream",
          "name": "stdout",
          "text": [
            "P-value for feminine word association: 0.1491\n"
          ]
        }
      ]
    },
    {
      "cell_type": "code",
      "source": [
        "!pip install arabic-reshaper python-bidi\n",
        "from arabic_reshaper import reshape\n",
        "from bidi.algorithm import get_display\n",
        "from collections import Counter\n",
        "import matplotlib.pyplot as plt"
      ],
      "metadata": {
        "colab": {
          "base_uri": "https://localhost:8080/"
        },
        "id": "DqSym1yckHyr",
        "outputId": "86bc6401-6d56-4676-b2de-ac905bcf40dc"
      },
      "execution_count": 69,
      "outputs": [
        {
          "output_type": "stream",
          "name": "stdout",
          "text": [
            "Collecting arabic-reshaper\n",
            "  Downloading arabic_reshaper-3.0.0-py3-none-any.whl.metadata (12 kB)\n",
            "Collecting python-bidi\n",
            "  Downloading python_bidi-0.6.6-cp311-cp311-manylinux_2_17_x86_64.manylinux2014_x86_64.whl.metadata (4.9 kB)\n",
            "Downloading arabic_reshaper-3.0.0-py3-none-any.whl (20 kB)\n",
            "Downloading python_bidi-0.6.6-cp311-cp311-manylinux_2_17_x86_64.manylinux2014_x86_64.whl (292 kB)\n",
            "\u001b[2K   \u001b[90m━━━━━━━━━━━━━━━━━━━━━━━━━━━━━━━━━━━━━━━━\u001b[0m \u001b[32m292.9/292.9 kB\u001b[0m \u001b[31m7.9 MB/s\u001b[0m eta \u001b[36m0:00:00\u001b[0m\n",
            "\u001b[?25hInstalling collected packages: python-bidi, arabic-reshaper\n",
            "Successfully installed arabic-reshaper-3.0.0 python-bidi-0.6.6\n"
          ]
        }
      ]
    },
    {
      "cell_type": "code",
      "source": [
        "#Emoji Frequency\n",
        "emoji_counts = df.groupby('Majority_Label')['Emojis'].apply(\n",
        "    lambda x: Counter([e for lst in x for e in lst if lst])\n",
        ").unstack(fill_value=0)"
      ],
      "metadata": {
        "id": "GkURl5_jngxN"
      },
      "execution_count": 74,
      "outputs": []
    },
    {
      "cell_type": "code",
      "source": [
        "fig, ax = plt.subplots(figsize=(10,6))\n",
        "for label in ['Offensive', 'Non-Offensive']:\n",
        "    top_emojis = emoji_counts.loc[label].nlargest(5)\n",
        "    display_emojis = [get_display(reshape(e)) for e in top_emojis.index]\n",
        "    ax.bar(display_emojis, top_emojis.values, label=label)\n",
        "\n",
        "ax.set_title(get_display(reshape('Most Used Emoji')))\n",
        "ax.legend()\n",
        "plt.show()"
      ],
      "metadata": {
        "colab": {
          "base_uri": "https://localhost:8080/",
          "height": 727
        },
        "id": "HhOQby_rnjdI",
        "outputId": "63f75c8d-0aa0-412f-ca4f-1e42ca6cbb69"
      },
      "execution_count": 75,
      "outputs": [
        {
          "output_type": "stream",
          "name": "stderr",
          "text": [
            "/usr/local/lib/python3.11/dist-packages/IPython/core/pylabtools.py:151: UserWarning: Glyph 128071 (\\N{WHITE DOWN POINTING BACKHAND INDEX}) missing from font(s) DejaVu Sans.\n",
            "  fig.canvas.print_figure(bytes_io, **kw)\n",
            "/usr/local/lib/python3.11/dist-packages/IPython/core/pylabtools.py:151: UserWarning: Glyph 129315 (\\N{ROLLING ON THE FLOOR LAUGHING}) missing from font(s) DejaVu Sans.\n",
            "  fig.canvas.print_figure(bytes_io, **kw)\n",
            "/usr/local/lib/python3.11/dist-packages/IPython/core/pylabtools.py:151: UserWarning: Glyph 128578 (\\N{SLIGHTLY SMILING FACE}) missing from font(s) DejaVu Sans.\n",
            "  fig.canvas.print_figure(bytes_io, **kw)\n",
            "/usr/local/lib/python3.11/dist-packages/IPython/core/pylabtools.py:151: UserWarning: Glyph 128077 (\\N{THUMBS UP SIGN}) missing from font(s) DejaVu Sans.\n",
            "  fig.canvas.print_figure(bytes_io, **kw)\n",
            "/usr/local/lib/python3.11/dist-packages/IPython/core/pylabtools.py:151: UserWarning: Glyph 128148 (\\N{BROKEN HEART}) missing from font(s) DejaVu Sans.\n",
            "  fig.canvas.print_figure(bytes_io, **kw)\n"
          ]
        },
        {
          "output_type": "display_data",
          "data": {
            "text/plain": [
              "<Figure size 1000x600 with 1 Axes>"
            ],
            "image/png": "[encoded data removed]"
          },
          "metadata": {}
        }
      ]
    },
    {
      "cell_type": "code",
      "source": [
        "#Negation presence\n",
        "df['Has_Negation'] = df['Negative Words'].apply(lambda x: len(x) > 0)\n",
        "\n",
        "#Visualization\n",
        "negation_dist = df.groupby(['Majority_Label', 'Has_Negation']).size().unstack()\n",
        "negation_dist.plot(kind='bar', stacked=True,\n",
        "                   title=get_display(reshape('Negation Presence')))"
      ],
      "metadata": {
        "colab": {
          "base_uri": "https://localhost:8080/",
          "height": 575
        },
        "id": "2-IKSLaVoQoG",
        "outputId": "912b3294-8a4f-42c3-9d40-5cce8335c78b"
      },
      "execution_count": 80,
      "outputs": [
        {
          "output_type": "execute_result",
          "data": {
            "text/plain": [
              "<Axes: title={'center': 'Negation Presence'}, xlabel='Majority_Label'>"
            ]
          },
          "metadata": {},
          "execution_count": 80
        },
        {
          "output_type": "display_data",
          "data": {
            "text/plain": [
              "<Figure size 640x480 with 1 Axes>"
            ],
            "image/png": "[encoded data removed]"
          },
          "metadata": {}
        }
      ]
    },
    {
      "cell_type": "code",
      "source": [
        "import seaborn as sns"
      ],
      "metadata": {
        "id": "LOAt6i5Ios-p"
      },
      "execution_count": 82,
      "outputs": []
    },
    {
      "cell_type": "code",
      "source": [
        "#Calculate lengths\n",
        "df['Processed_Length'] = df['Proccessed Text'].apply(len)\n",
        "\n",
        "#Boxplot comparison\n",
        "plt.figure(figsize=(8,5))\n",
        "sns.boxplot(x='Majority_Label', y='Processed_Length', data=df)\n",
        "plt.title(get_display(reshape('Classification by Length')))\n",
        "plt.ylabel(get_display(reshape('عدد الأحرف')))\n",
        "plt.show()"
      ],
      "metadata": {
        "colab": {
          "base_uri": "https://localhost:8080/",
          "height": 487
        },
        "id": "rkgoxTdHobc3",
        "outputId": "64ef878d-ad9c-4ed9-ba45-83c9331ab5a3"
      },
      "execution_count": 84,
      "outputs": [
        {
          "output_type": "display_data",
          "data": {
            "text/plain": [
              "<Figure size 800x500 with 1 Axes>"
            ],
            "image/png": "[encoded data removed]"
          },
          "metadata": {}
        }
      ]
    },
    {
      "cell_type": "code",
      "source": [
        "#Create pattern flags\n",
        "pattern_cols = ['Emojis', 'Repeated Words', 'Feminine Words',\n",
        "               'Negative Words', 'Question Words', 'Long Words']\n",
        "for col in pattern_cols:\n",
        "    df[f'has_{col}'] = df[col].apply(lambda x: len(x) > 0)\n",
        "\n",
        "#Compute correlations\n",
        "corr_matrix = df[['has_'+c for c in pattern_cols]].corr()"
      ],
      "metadata": {
        "id": "T2Ehgzt2o_cO"
      },
      "execution_count": 85,
      "outputs": []
    },
    {
      "cell_type": "code",
      "source": [
        "#Visualize\n",
        "plt.figure(figsize=(10,8))\n",
        "sns.heatmap(corr_matrix, annot=True, cmap='coolwarm',\n",
        "            xticklabels=[get_display(reshape(c)) for c in pattern_cols],\n",
        "            yticklabels=[get_display(reshape(c)) for c in pattern_cols])\n",
        "plt.title(get_display(reshape('Patterns Correlations')))"
      ],
      "metadata": {
        "colab": {
          "base_uri": "https://localhost:8080/",
          "height": 816
        },
        "id": "VKZ1Ge5lpHdg",
        "outputId": "cfa18d6c-3e70-4193-804f-18b8fbda535e"
      },
      "execution_count": 87,
      "outputs": [
        {
          "output_type": "execute_result",
          "data": {
            "text/plain": [
              "Text(0.5, 1.0, 'Patterns Correlations')"
            ]
          },
          "metadata": {},
          "execution_count": 87
        },
        {
          "output_type": "display_data",
          "data": {
            "text/plain": [
              "<Figure size 1000x800 with 2 Axes>"
            ],
            "image/png": "[encoded data removed]"
          },
          "metadata": {}
        }
      ]
    }
  ]
}